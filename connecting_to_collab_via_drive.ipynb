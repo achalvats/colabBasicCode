{
  "nbformat": 4,
  "nbformat_minor": 0,
  "metadata": {
    "colab": {
      "name": " connecting to collab via drive.ipynb",
      "provenance": [],
      "mount_file_id": "1Bbps5twiS5XFbaWpfxsCmHQ1a7EvDPoU",
      "authorship_tag": "ABX9TyPLEzbaBfpF0vQFt7IrzgBq",
      "include_colab_link": true
    },
    "kernelspec": {
      "name": "python3",
      "display_name": "Python 3"
    }
  },
  "cells": [
    {
      "cell_type": "markdown",
      "metadata": {
        "id": "view-in-github",
        "colab_type": "text"
      },
      "source": [
        "<a href=\"https://colab.research.google.com/github/acvats/colabBasicCode/blob/master/connecting_to_collab_via_drive.ipynb\" target=\"_parent\"><img src=\"https://colab.research.google.com/assets/colab-badge.svg\" alt=\"Open In Colab\"/></a>"
      ]
    },
    {
      "cell_type": "code",
      "metadata": {
        "id": "aG4oZYTTPunI",
        "colab_type": "code",
        "colab": {}
      },
      "source": [
        "import os\n",
        "os.environ['KAGGLE_CONFIG_DIR'] = \"/content/.kaggle\""
      ],
      "execution_count": 1,
      "outputs": []
    },
    {
      "cell_type": "code",
      "metadata": {
        "id": "fm_HxiXUP_8F",
        "colab_type": "code",
        "colab": {
          "base_uri": "https://localhost:8080/",
          "height": 230
        },
        "outputId": "83ca0d44-0790-42bf-ac09-a57163b25f8e"
      },
      "source": [
        "!pip install kaggle"
      ],
      "execution_count": 2,
      "outputs": [
        {
          "output_type": "stream",
          "text": [
            "Requirement already satisfied: kaggle in /usr/local/lib/python3.6/dist-packages (1.5.8)\n",
            "Requirement already satisfied: six>=1.10 in /usr/local/lib/python3.6/dist-packages (from kaggle) (1.15.0)\n",
            "Requirement already satisfied: python-dateutil in /usr/local/lib/python3.6/dist-packages (from kaggle) (2.8.1)\n",
            "Requirement already satisfied: python-slugify in /usr/local/lib/python3.6/dist-packages (from kaggle) (4.0.1)\n",
            "Requirement already satisfied: tqdm in /usr/local/lib/python3.6/dist-packages (from kaggle) (4.41.1)\n",
            "Requirement already satisfied: certifi in /usr/local/lib/python3.6/dist-packages (from kaggle) (2020.6.20)\n",
            "Requirement already satisfied: requests in /usr/local/lib/python3.6/dist-packages (from kaggle) (2.23.0)\n",
            "Requirement already satisfied: slugify in /usr/local/lib/python3.6/dist-packages (from kaggle) (0.0.1)\n",
            "Requirement already satisfied: urllib3<1.25,>=1.21.1 in /usr/local/lib/python3.6/dist-packages (from kaggle) (1.24.3)\n",
            "Requirement already satisfied: text-unidecode>=1.3 in /usr/local/lib/python3.6/dist-packages (from python-slugify->kaggle) (1.3)\n",
            "Requirement already satisfied: chardet<4,>=3.0.2 in /usr/local/lib/python3.6/dist-packages (from requests->kaggle) (3.0.4)\n",
            "Requirement already satisfied: idna<3,>=2.5 in /usr/local/lib/python3.6/dist-packages (from requests->kaggle) (2.10)\n"
          ],
          "name": "stdout"
        }
      ]
    },
    {
      "cell_type": "code",
      "metadata": {
        "id": "YGF7r3iGQAhN",
        "colab_type": "code",
        "colab": {}
      },
      "source": [
        "!mkdir .kaggle"
      ],
      "execution_count": 3,
      "outputs": []
    },
    {
      "cell_type": "code",
      "metadata": {
        "id": "y6yB67_tQDIS",
        "colab_type": "code",
        "colab": {}
      },
      "source": [
        "cp '/content/drive/My Drive/kaggle auth key/kaggle.json' '/content/.kaggle/kaggle.json'"
      ],
      "execution_count": 4,
      "outputs": []
    },
    {
      "cell_type": "code",
      "metadata": {
        "id": "cWB0LBhpQHVT",
        "colab_type": "code",
        "colab": {}
      },
      "source": [
        "!chmod 600 /content/.kaggle/kaggle.json"
      ],
      "execution_count": 6,
      "outputs": []
    },
    {
      "cell_type": "code",
      "metadata": {
        "id": "_uMxbEq0QYAo",
        "colab_type": "code",
        "colab": {
          "base_uri": "https://localhost:8080/",
          "height": 35
        },
        "outputId": "a8a46d68-53ca-4f47-bab7-d274940c3dad"
      },
      "source": [
        "!kaggle config set -n path -v{/content}"
      ],
      "execution_count": 7,
      "outputs": [
        {
          "output_type": "stream",
          "text": [
            "- path is now set to: {/content}\n"
          ],
          "name": "stdout"
        }
      ]
    },
    {
      "cell_type": "code",
      "metadata": {
        "id": "5tK8xiGGQad_",
        "colab_type": "code",
        "colab": {
          "base_uri": "https://localhost:8080/",
          "height": 446
        },
        "outputId": "7d31333a-e789-4a27-96a7-a5e761475c45"
      },
      "source": [
        "!kaggle datasets list"
      ],
      "execution_count": 8,
      "outputs": [
        {
          "output_type": "stream",
          "text": [
            "Warning: Looks like you're using an outdated API Version, please consider updating (server 1.5.6 / client 1.5.4)\n",
            "ref                                                                 title                                                size  lastUpdated          downloadCount  \n",
            "------------------------------------------------------------------  --------------------------------------------------  -----  -------------------  -------------  \n",
            "imoore/60k-stack-overflow-questions-with-quality-rate               60k Stack Overflow Questions with Quality Rating     21MB  2020-09-11 18:28:28            950  \n",
            "tunguz/us-elections-dataset                                         US Elections Dataset                                  7MB  2020-09-12 16:16:48           1736  \n",
            "ihelon/lego-minifigures-classification                              LEGO Minifigures Classification                      16MB  2020-09-14 08:17:54            897  \n",
            "anikannal/solar-power-generation-data                               Solar Power Generation Data                           2MB  2020-08-18 15:52:03           3293  \n",
            "douglaskgaraujo/opportunity-insights-real-time-economic-tracker-us  Opportunity Insights real time Economic Tracker US   22MB  2020-09-07 18:23:07            376  \n",
            "ruchi798/bookcrossing-dataset                                       Book-Crossing: User review ratings                   25MB  2020-08-11 10:40:25            905  \n",
            "nehaprabhavalkar/av-healthcare-analytics-ii                         AV : Healthcare Analytics II                          7MB  2020-08-29 03:40:10           1560  \n",
            "Cornell-University/arxiv                                            arXiv Dataset                                       885MB  2020-09-14 16:54:47           2689  \n",
            "jerzydziewierz/bee-vs-wasp                                          Bee or wasp?                                        559MB  2020-08-23 18:07:47            295  \n",
            "jayitabhattacharyya/face-match                                      Face Matcher Challenge                              427MB  2020-08-29 07:38:53            133  \n",
            "claytonmiller/interpretation-of-thermal-perception-scales           Interpretation of Thermal Perception Scales         737KB  2020-08-31 12:23:51             93  \n",
            "jmmvutu/summer-products-and-sales-in-ecommerce-wish                 Sales of summer clothes in E-commerce Wish          376KB  2020-08-23 15:16:46           5476  \n",
            "agirlcoding/all-space-missions-from-1957                            All Space Missions from 1957                        101KB  2020-08-13 16:18:58           2914  \n",
            "gpreda/covid19-tweets                                               COVID19 Tweets                                       28MB  2020-08-30 09:38:38           4868  \n",
            "google/tinyquickdraw                                                QuickDraw Sketches                                   11GB  2018-04-18 19:38:04           2294  \n",
            "datasnaek/youtube-new                                               Trending YouTube Video Statistics                   201MB  2019-06-03 00:56:47         104404  \n",
            "zynicide/wine-reviews                                               Wine Reviews                                         51MB  2017-11-27 17:08:04         112182  \n",
            "datasnaek/chess                                                     Chess Game Dataset (Lichess)                          3MB  2017-09-04 03:09:09           8768  \n",
            "residentmario/ramen-ratings                                         Ramen Ratings                                        40KB  2018-01-11 16:04:39          13241  \n",
            "nasa/kepler-exoplanet-search-results                                Kepler Exoplanet Search Results                       1MB  2017-10-10 18:26:59           3944  \n"
          ],
          "name": "stdout"
        }
      ]
    },
    {
      "cell_type": "code",
      "metadata": {
        "id": "Aw-qJclbQfMx",
        "colab_type": "code",
        "colab": {}
      },
      "source": [
        ""
      ],
      "execution_count": null,
      "outputs": []
    }
  ]
}