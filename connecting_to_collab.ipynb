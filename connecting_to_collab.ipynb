{
  "nbformat": 4,
  "nbformat_minor": 0,
  "metadata": {
    "colab": {
      "name": " connecting to collab.ipynb",
      "provenance": [],
      "collapsed_sections": [],
      "authorship_tag": "ABX9TyPvalwMVFu/29Ydon3eBibr",
      "include_colab_link": true
    },
    "kernelspec": {
      "name": "python3",
      "display_name": "Python 3"
    }
  },
  "cells": [
    {
      "cell_type": "markdown",
      "metadata": {
        "id": "view-in-github",
        "colab_type": "text"
      },
      "source": [
        "<a href=\"https://colab.research.google.com/github/acvats/colabBasicCode/blob/master/connecting_to_collab.ipynb\" target=\"_parent\"><img src=\"https://colab.research.google.com/assets/colab-badge.svg\" alt=\"Open In Colab\"/></a>"
      ]
    },
    {
      "cell_type": "code",
      "metadata": {
        "id": "yWMAM6Z6n2Ic",
        "colab_type": "code",
        "colab": {}
      },
      "source": [
        "import os\n",
        "os.environ['KAGGLE_CONFIG_DIR'] = \"/content/.kaggle\""
      ],
      "execution_count": null,
      "outputs": []
    },
    {
      "cell_type": "code",
      "metadata": {
        "id": "FWkJmyt_gPbL",
        "colab_type": "code",
        "colab": {
          "base_uri": "https://localhost:8080/",
          "height": 212
        },
        "outputId": "6c4eb016-9a71-46f6-8a76-b8fdb0df84c7"
      },
      "source": [
        "!pip install kaggle"
      ],
      "execution_count": null,
      "outputs": [
        {
          "output_type": "stream",
          "text": [
            "Requirement already satisfied: kaggle in /usr/local/lib/python3.6/dist-packages (1.5.6)\n",
            "Requirement already satisfied: certifi in /usr/local/lib/python3.6/dist-packages (from kaggle) (2019.11.28)\n",
            "Requirement already satisfied: tqdm in /usr/local/lib/python3.6/dist-packages (from kaggle) (4.28.1)\n",
            "Requirement already satisfied: six>=1.10 in /usr/local/lib/python3.6/dist-packages (from kaggle) (1.12.0)\n",
            "Requirement already satisfied: urllib3<1.25,>=1.21.1 in /usr/local/lib/python3.6/dist-packages (from kaggle) (1.24.3)\n",
            "Requirement already satisfied: requests in /usr/local/lib/python3.6/dist-packages (from kaggle) (2.21.0)\n",
            "Requirement already satisfied: python-slugify in /usr/local/lib/python3.6/dist-packages (from kaggle) (4.0.0)\n",
            "Requirement already satisfied: python-dateutil in /usr/local/lib/python3.6/dist-packages (from kaggle) (2.6.1)\n",
            "Requirement already satisfied: idna<2.9,>=2.5 in /usr/local/lib/python3.6/dist-packages (from requests->kaggle) (2.8)\n",
            "Requirement already satisfied: chardet<3.1.0,>=3.0.2 in /usr/local/lib/python3.6/dist-packages (from requests->kaggle) (3.0.4)\n",
            "Requirement already satisfied: text-unidecode>=1.3 in /usr/local/lib/python3.6/dist-packages (from python-slugify->kaggle) (1.3)\n"
          ],
          "name": "stdout"
        }
      ]
    },
    {
      "cell_type": "code",
      "metadata": {
        "id": "UrZupHKKkjuM",
        "colab_type": "code",
        "colab": {
          "base_uri": "https://localhost:8080/",
          "height": 35
        },
        "outputId": "21fb0e54-81d8-4065-8efa-7855dec8b575"
      },
      "source": [
        "!mkdir .kaggle"
      ],
      "execution_count": null,
      "outputs": [
        {
          "output_type": "stream",
          "text": [
            "mkdir: cannot create directory ‘.kaggle’: File exists\n"
          ],
          "name": "stdout"
        }
      ]
    },
    {
      "cell_type": "markdown",
      "metadata": {
        "id": "m0H5_JGjbkUf",
        "colab_type": "text"
      },
      "source": [
        "you can directly save your auth key in this cell and run it"
      ]
    },
    {
      "cell_type": "code",
      "metadata": {
        "id": "ApO70eGAkqSR",
        "colab_type": "code",
        "colab": {}
      },
      "source": [
        "import json\n",
        "token = {your username and key from kaggle}\n",
        "with open('/content/.kaggle/kaggle.json', 'w') as file:\n",
        "    json.dump(token, file)"
      ],
      "execution_count": null,
      "outputs": []
    },
    {
      "cell_type": "markdown",
      "metadata": {
        "id": "tGBHHdYybuq1",
        "colab_type": "text"
      },
      "source": [
        "or you can save your kaggle auth key in google drive and connect it using next two cells"
      ]
    },
    {
      "cell_type": "code",
      "metadata": {
        "id": "0wJRxF4Ab5Oo",
        "colab_type": "code",
        "colab": {}
      },
      "source": [
        "from google.colab import drive\n",
        "drive.mount('/content/drive')"
      ],
      "execution_count": null,
      "outputs": []
    },
    {
      "cell_type": "code",
      "metadata": {
        "id": "_2O5nUAgb5US",
        "colab_type": "code",
        "colab": {}
      },
      "source": [
        "cp '/content/drive/My Drive/kaggle auth key/kaggle.json' '/content/.kaggle/kaggle.json'"
      ],
      "execution_count": null,
      "outputs": []
    },
    {
      "cell_type": "markdown",
      "metadata": {
        "id": "aEYXd5-ocBwF",
        "colab_type": "text"
      },
      "source": [
        "use either of the above mentioned steps, you can get you kaggle auth key from your kaggle profile tab"
      ]
    },
    {
      "cell_type": "code",
      "metadata": {
        "id": "gwz73HD1lOxl",
        "colab_type": "code",
        "colab": {
          "base_uri": "https://localhost:8080/",
          "height": 35
        },
        "outputId": "000adf92-e5c9-4837-85c9-80214277e4cb"
      },
      "source": [
        "cd .kaggle\n"
      ],
      "execution_count": null,
      "outputs": [
        {
          "output_type": "stream",
          "text": [
            "/content/.kaggle\n"
          ],
          "name": "stdout"
        }
      ]
    },
    {
      "cell_type": "code",
      "metadata": {
        "id": "liRCx1RclXtK",
        "colab_type": "code",
        "colab": {
          "base_uri": "https://localhost:8080/",
          "height": 35
        },
        "outputId": "49fdd0a3-17a0-4f65-e850-d1f8154ff71f"
      },
      "source": [
        "ls"
      ],
      "execution_count": null,
      "outputs": [
        {
          "output_type": "stream",
          "text": [
            "kaggle.json\n"
          ],
          "name": "stdout"
        }
      ]
    },
    {
      "cell_type": "code",
      "metadata": {
        "id": "IeFqvtawllor",
        "colab_type": "code",
        "colab": {
          "base_uri": "https://localhost:8080/",
          "height": 35
        },
        "outputId": "0999a563-c654-4a24-fdff-b9b52d24b7a0"
      },
      "source": [
        "cd .."
      ],
      "execution_count": null,
      "outputs": [
        {
          "output_type": "stream",
          "text": [
            "/content\n"
          ],
          "name": "stdout"
        }
      ]
    },
    {
      "cell_type": "code",
      "metadata": {
        "id": "CEJNVtAbodu3",
        "colab_type": "code",
        "colab": {}
      },
      "source": [
        "!chmod 600 /content/.kaggle/kaggle.json"
      ],
      "execution_count": null,
      "outputs": []
    },
    {
      "cell_type": "code",
      "metadata": {
        "id": "elYWPsrAlFCG",
        "colab_type": "code",
        "colab": {
          "base_uri": "https://localhost:8080/",
          "height": 52
        },
        "outputId": "6fcff660-bb29-4ff6-d739-7989ac2b786c"
      },
      "source": [
        "!kaggle config set -n path -v{/content}"
      ],
      "execution_count": null,
      "outputs": [
        {
          "output_type": "stream",
          "text": [
            "Warning: Your Kaggle API key is readable by other users on this system! To fix this, you can run 'chmod 600 /content/.kaggle/kaggle.json'\n",
            "- path is now set to: {/content}\n"
          ],
          "name": "stdout"
        }
      ]
    },
    {
      "cell_type": "code",
      "metadata": {
        "id": "Cpf5fGlAokUx",
        "colab_type": "code",
        "colab": {
          "base_uri": "https://localhost:8080/",
          "height": 444
        },
        "outputId": "38796df8-afe9-4245-e3c5-e3c22334b164"
      },
      "source": [
        "!kaggle datasets list\n"
      ],
      "execution_count": null,
      "outputs": [
        {
          "output_type": "stream",
          "text": [
            "Warning: Your Kaggle API key is readable by other users on this system! To fix this, you can run 'chmod 600 /content/.kaggle/kaggle.json'\n",
            "Warning: Looks like you're using an outdated API Version, please consider updating (server 1.5.6 / client 1.5.4)\n",
            "ref                                                        title                                                size  lastUpdated          downloadCount  \n",
            "---------------------------------------------------------  --------------------------------------------------  -----  -------------------  -------------  \n",
            "jessemostipak/hotel-booking-demand                         Hotel booking demand                                  1MB  2020-02-13 01:27:20           3417  \n",
            "tunguz/big-five-personality-test                           Big Five Personality Test                           159MB  2020-02-17 15:59:37            995  \n",
            "arindam235/startup-investments-crunchbase                  StartUp Investments (Crunchbase)                      3MB  2020-02-17 21:54:42            974  \n",
            "jamzing/sars-coronavirus-accession                         SARS CORONAVIRUS ACCESSION                            2MB  2020-02-18 15:49:34           1227  \n",
            "brandenciranni/democratic-debate-transcripts-2020          Democratic Debate Transcripts 2020                  565KB  2020-02-27 00:07:40            319  \n",
            "sovitrath/diabetic-retinopathy-224x224-gaussian-filtered   Diabetic Retinopathy 224x224 Gaussian Filtered      427MB  2020-02-18 02:33:27            270  \n",
            "chaibapat/slogan-dataset                                   Slogan Dataset                                       18KB  2020-02-16 07:28:17            312  \n",
            "kenshoresearch/kensho-derived-wikimedia-data               Kensho Derived Wikimedia Dataset                      8GB  2020-01-24 20:30:52            181  \n",
            "mistag/arthropod-taxonomy-orders-object-detection-dataset  Arthropod Taxonomy Orders Object Detection Dataset   10GB  2020-02-01 15:13:23            221  \n",
            "chrisfilo/onion-or-not                                     Onion Or Not                                        887KB  2020-02-26 02:34:12             43  \n",
            "sudalairajkumar/novel-corona-virus-2019-dataset            Novel Corona Virus 2019 Dataset                      51KB  2020-02-26 07:34:00          13976  \n",
            "rajanand/accidents-in-india                                Accidents in India                                   48KB  2017-07-23 12:17:22            918  \n",
            "abcsds/highest-mountains                                   World's Highest Mountains                             5KB  2016-08-30 23:25:31           1109  \n",
            "brendaso/2019-coronavirus-dataset-01212020-01262020        2019 Coronavirus dataset (January - February 2020)   53KB  2020-02-06 18:09:28           5731  \n",
            "timoboz/data-science-cheat-sheets                          Data Science Cheat Sheets                           596MB  2020-02-04 19:42:27           1882  \n",
            "timoboz/google-trends-data                                 Google Trends Data                                    1MB  2020-02-04 17:31:10           2070  \n",
            "timoboz/superbowl-history-1967-2020                        Superbowl History 1967 - 2020                         2KB  2020-02-03 23:41:14           1816  \n",
            "timoboz/python-data-science-handbook                       Python Data Science Handbook                         15MB  2020-02-04 18:27:14            728  \n",
            "timoboz/tesla-stock-data-from-2010-to-2020                 Tesla stock data from 2010 to 2020                   46KB  2020-02-04 17:15:32           1610  \n",
            "fmejia21/demographics-of-academy-awards-oscars-winners     Demographics of Academy Awards (Oscars) Winners      20KB  2020-02-04 17:38:26           1572  \n"
          ],
          "name": "stdout"
        }
      ]
    },
    {
      "cell_type": "markdown",
      "metadata": {
        "id": "chK_Q6KLcXE5",
        "colab_type": "text"
      },
      "source": [
        "<link of your dataset, eg:> \"arbazkhan971/analyticvidhyadatasetsentiment\""
      ]
    },
    {
      "cell_type": "code",
      "metadata": {
        "id": "k9jLg4B1otde",
        "colab_type": "code",
        "colab": {}
      },
      "source": [
        "!kaggle datasets download -d \"arbazkhan971/analyticvidhyadatasetsentiment\""
      ],
      "execution_count": null,
      "outputs": []
    }
  ]
}